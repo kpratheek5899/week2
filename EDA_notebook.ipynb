{
  "nbformat": 4,
  "nbformat_minor": 0,
  "metadata": {
    "colab": {
      "provenance": []
    },
    "kernelspec": {
      "name": "python3",
      "display_name": "Python 3"
    },
    "language_info": {
      "name": "python"
    }
  },
  "cells": [
    {
      "cell_type": "code",
      "execution_count": null,
      "metadata": {
        "id": "9dmaTKEO3id0"
      },
      "outputs": [],
      "source": [
        "from google.colab import files\n",
        "\n",
        "\n",
        "uploaded = files.upload()"
      ]
    },
    {
      "cell_type": "code",
      "source": [
        "import pandas as pd  # Data manipulation and analysis\n",
        "import numpy as np  # Numerical operations\n",
        "import matplotlib.pyplot as plt  # Data visualization\n",
        "import os\n",
        "import io\n",
        "\n",
        "cab_data = pd.read_csv(io.BytesIO(uploaded['Cab_Data.csv']))\n",
        "city_data = pd.read_csv(io.BytesIO(uploaded['City.csv']))\n",
        "tran_data = pd.read_csv(io.BytesIO(uploaded['Transaction_ID.csv']))\n",
        "cust_data = pd.read_csv(io.BytesIO(uploaded['Customer_ID.csv']))"
      ],
      "metadata": {
        "id": "BnDaCsrT4UWX"
      },
      "execution_count": 2,
      "outputs": []
    },
    {
      "cell_type": "code",
      "source": [
        "data1 = pd.merge(tran_data, cust_data, on=\"Customer ID\")\n",
        "print(data1)\n",
        "data2 = pd.merge(data1, cab_data, on=\"Transaction ID\")\n",
        "print(data2)\n",
        "comb_data = pd.merge(data2, city_data, on=\"City\")\n",
        "print(comb_data)"
      ],
      "metadata": {
        "id": "FaL8SWn44ZDz"
      },
      "execution_count": null,
      "outputs": []
    },
    {
      "cell_type": "code",
      "source": [
        "comb_data.info()"
      ],
      "metadata": {
        "id": "CbUeKxs94lhv"
      },
      "execution_count": null,
      "outputs": []
    },
    {
      "cell_type": "code",
      "source": [
        "import seaborn as sns\n",
        "import matplotlib.pyplot as plt\n",
        "\n",
        "# Select numerical variables\n",
        "numerical_vars = comb_data.select_dtypes(include='number')\n",
        "\n",
        "# Create individual boxplots for each numerical variable\n",
        "for column in numerical_vars.columns:\n",
        "    plt.figure(figsize=(8, 6))\n",
        "    sns.boxplot(data=comb_data[column])\n",
        "    plt.title(f'Box Plot of {column}')\n",
        "    plt.show()"
      ],
      "metadata": {
        "id": "izzrPCwP4x_v"
      },
      "execution_count": null,
      "outputs": []
    },
    {
      "cell_type": "code",
      "source": [
        "descriptive_stats = numerical_vars.describe()\n",
        "print(descriptive_stats)"
      ],
      "metadata": {
        "id": "ukBf_HyX46GR"
      },
      "execution_count": null,
      "outputs": []
    },
    {
      "cell_type": "code",
      "source": [
        "for column in comb_data.columns:\n",
        "  if comb_data[column].dtype == 'object':\n",
        "    categorical_freq = comb_data[column].value_counts()\n",
        "    print(categorical_freq)"
      ],
      "metadata": {
        "id": "0IOXObvX49u1"
      },
      "execution_count": null,
      "outputs": []
    },
    {
      "cell_type": "code",
      "source": [
        "#univariate visualizations for numerical variables\n",
        "for column in comb_data.columns:\n",
        "  if comb_data[column].dtype == 'float64' or comb_data[column].dtype == 'int64':\n",
        "    plt.hist(comb_data[column], bins = 10)\n",
        "    plt.xlabel(column)\n",
        "    plt.ylabel('frequency')\n",
        "    plt.title(f'Histograms of {column}')\n",
        "    plt.show()"
      ],
      "metadata": {
        "id": "bmQZQFO95Bn0"
      },
      "execution_count": null,
      "outputs": []
    },
    {
      "cell_type": "code",
      "source": [
        "#univariate visualizations for categorical variables\n",
        "for column in comb_data.columns:\n",
        "    # Check if the column has a categorical data type\n",
        "    if comb_data[column].dtype == 'object':\n",
        "        # Generate a count plot (bar plot) for the categorical variable\n",
        "        plt.figure(figsize=(10, 6))\n",
        "        sns.countplot(data=comb_data, x=column)\n",
        "        plt.xlabel(column)\n",
        "        plt.ylabel('Count')\n",
        "        plt.title(f'Count Plot of {column}')\n",
        "        plt.xticks(rotation=45)\n",
        "        plt.show()"
      ],
      "metadata": {
        "id": "6wH-e2Q-5Ga_"
      },
      "execution_count": null,
      "outputs": []
    },
    {
      "cell_type": "code",
      "source": [
        "import seaborn as sns\n",
        "import matplotlib.pyplot as plt\n",
        "\n",
        "plt.figure(figsize=(8, 6))\n",
        "sns.countplot(data=comb_data, x='Gender', hue='Company')\n",
        "plt.xlabel('Gender')\n",
        "plt.ylabel('Count')\n",
        "plt.title('Stacked Bar Plot of Gender and Company')\n",
        "plt.show()"
      ],
      "metadata": {
        "id": "mHXgodwY5Otj"
      },
      "execution_count": null,
      "outputs": []
    },
    {
      "cell_type": "code",
      "source": [
        "plt.figure(figsize = (6,5))\n",
        "sns.boxplot(data=comb_data, x='Company', y='Age')\n",
        "plt.xlabel('Company')\n",
        "plt.ylabel('Age')\n",
        "plt.title('Age stats for companies')\n",
        "plt.show()"
      ],
      "metadata": {
        "id": "Qq4vwWxd5SYT"
      },
      "execution_count": null,
      "outputs": []
    },
    {
      "cell_type": "code",
      "source": [
        "plt.figure(figsize=(5,4))\n",
        "sns.boxplot(data=comb_data, x='Company', y='Income (USD/Month)')\n",
        "plt.xlabel('Company')\n",
        "plt.ylabel('Income (USD/Month)')\n",
        "plt.title('Customer income stats for companies')\n",
        "plt.show()"
      ],
      "metadata": {
        "id": "GVlfWvW35VvD"
      },
      "execution_count": null,
      "outputs": []
    },
    {
      "cell_type": "code",
      "source": [
        "plt.figure(figsize=(25, 6))\n",
        "sns.countplot(data=comb_data, x='City', hue='Company')\n",
        "plt.xlabel('City')\n",
        "plt.ylabel('Count')\n",
        "plt.title('City vs Company')\n",
        "plt.show()"
      ],
      "metadata": {
        "id": "SLSA9URw5dqu"
      },
      "execution_count": null,
      "outputs": []
    },
    {
      "cell_type": "code",
      "source": [
        "plt.figure(figsize=(8,8))\n",
        "sns.scatterplot(data=comb_data, x='Price Charged', y='KM Travelled')\n",
        "plt.xlabel('Price Charged')\n",
        "plt.ylabel('KM Travelled')\n",
        "plt.title('price vs km')\n",
        "plt.show()"
      ],
      "metadata": {
        "id": "n66zwEaR5k9j"
      },
      "execution_count": null,
      "outputs": []
    },
    {
      "cell_type": "code",
      "source": [
        "plt.figure(figsize=(8,8))\n",
        "sns.boxplot(data=comb_data, x='Company', y='Cost of Trip')\n",
        "plt.xlabel('Compnay')\n",
        "plt.ylabel('Cost of Trip')\n",
        "plt.title('company vs cost')\n",
        "plt.show()"
      ],
      "metadata": {
        "id": "hqTq_7Aw5vKb"
      },
      "execution_count": null,
      "outputs": []
    },
    {
      "cell_type": "code",
      "source": [
        "# Remove commas from the Users column\n",
        "company1_data = comb_data[comb_data['Company'] == 'Pink Cab']\n",
        "company2_data = comb_data[comb_data['Company'] == 'Yellow cab']\n",
        "\n",
        "from google.colab import files\n",
        "company1_data.to_csv('company1_data.csv')\n",
        "files.download('company1_data.csv')\n",
        "company2_data.to_csv('company2_data.csv')\n",
        "files.download('company2_data.csv')"
      ],
      "metadata": {
        "colab": {
          "base_uri": "https://localhost:8080/",
          "height": 17
        },
        "id": "d03T6Pxe53S8",
        "outputId": "42c7e1dc-a6b1-4460-a723-7c7ea5bc7e42"
      },
      "execution_count": 20,
      "outputs": [
        {
          "output_type": "display_data",
          "data": {
            "text/plain": [
              "<IPython.core.display.Javascript object>"
            ],
            "application/javascript": [
              "\n",
              "    async function download(id, filename, size) {\n",
              "      if (!google.colab.kernel.accessAllowed) {\n",
              "        return;\n",
              "      }\n",
              "      const div = document.createElement('div');\n",
              "      const label = document.createElement('label');\n",
              "      label.textContent = `Downloading \"${filename}\": `;\n",
              "      div.appendChild(label);\n",
              "      const progress = document.createElement('progress');\n",
              "      progress.max = size;\n",
              "      div.appendChild(progress);\n",
              "      document.body.appendChild(div);\n",
              "\n",
              "      const buffers = [];\n",
              "      let downloaded = 0;\n",
              "\n",
              "      const channel = await google.colab.kernel.comms.open(id);\n",
              "      // Send a message to notify the kernel that we're ready.\n",
              "      channel.send({})\n",
              "\n",
              "      for await (const message of channel.messages) {\n",
              "        // Send a message to notify the kernel that we're ready.\n",
              "        channel.send({})\n",
              "        if (message.buffers) {\n",
              "          for (const buffer of message.buffers) {\n",
              "            buffers.push(buffer);\n",
              "            downloaded += buffer.byteLength;\n",
              "            progress.value = downloaded;\n",
              "          }\n",
              "        }\n",
              "      }\n",
              "      const blob = new Blob(buffers, {type: 'application/binary'});\n",
              "      const a = document.createElement('a');\n",
              "      a.href = window.URL.createObjectURL(blob);\n",
              "      a.download = filename;\n",
              "      div.appendChild(a);\n",
              "      a.click();\n",
              "      div.remove();\n",
              "    }\n",
              "  "
            ]
          },
          "metadata": {}
        },
        {
          "output_type": "display_data",
          "data": {
            "text/plain": [
              "<IPython.core.display.Javascript object>"
            ],
            "application/javascript": [
              "download(\"download_35f7097d-c1e8-4206-ac5a-d2cd44b820fd\", \"company1_data.csv\", 9879622)"
            ]
          },
          "metadata": {}
        },
        {
          "output_type": "display_data",
          "data": {
            "text/plain": [
              "<IPython.core.display.Javascript object>"
            ],
            "application/javascript": [
              "\n",
              "    async function download(id, filename, size) {\n",
              "      if (!google.colab.kernel.accessAllowed) {\n",
              "        return;\n",
              "      }\n",
              "      const div = document.createElement('div');\n",
              "      const label = document.createElement('label');\n",
              "      label.textContent = `Downloading \"${filename}\": `;\n",
              "      div.appendChild(label);\n",
              "      const progress = document.createElement('progress');\n",
              "      progress.max = size;\n",
              "      div.appendChild(progress);\n",
              "      document.body.appendChild(div);\n",
              "\n",
              "      const buffers = [];\n",
              "      let downloaded = 0;\n",
              "\n",
              "      const channel = await google.colab.kernel.comms.open(id);\n",
              "      // Send a message to notify the kernel that we're ready.\n",
              "      channel.send({})\n",
              "\n",
              "      for await (const message of channel.messages) {\n",
              "        // Send a message to notify the kernel that we're ready.\n",
              "        channel.send({})\n",
              "        if (message.buffers) {\n",
              "          for (const buffer of message.buffers) {\n",
              "            buffers.push(buffer);\n",
              "            downloaded += buffer.byteLength;\n",
              "            progress.value = downloaded;\n",
              "          }\n",
              "        }\n",
              "      }\n",
              "      const blob = new Blob(buffers, {type: 'application/binary'});\n",
              "      const a = document.createElement('a');\n",
              "      a.href = window.URL.createObjectURL(blob);\n",
              "      a.download = filename;\n",
              "      div.appendChild(a);\n",
              "      a.click();\n",
              "      div.remove();\n",
              "    }\n",
              "  "
            ]
          },
          "metadata": {}
        },
        {
          "output_type": "display_data",
          "data": {
            "text/plain": [
              "<IPython.core.display.Javascript object>"
            ],
            "application/javascript": [
              "download(\"download_2940dc16-2090-471b-a44e-a29586f10a4b\", \"company2_data.csv\", 156)"
            ]
          },
          "metadata": {}
        }
      ]
    },
    {
      "cell_type": "code",
      "source": [
        "from google.colab import files\n",
        "\n",
        "\n",
        "uploaded = files.upload()"
      ],
      "metadata": {
        "id": "2SSa_UtX--tp"
      },
      "execution_count": null,
      "outputs": []
    },
    {
      "cell_type": "code",
      "source": [
        "#trends of users over time\n",
        "\n",
        "company1_data = pd.read_csv('company1_data (1).csv')\n",
        "company2_data = pd.read_csv('company2_data (1).csv')\n",
        "\n",
        "company1_data['Users'] = company1_data['Users'].str.replace(',', '')\n",
        "company2_data['Users'] = company2_data['Users'].str.replace(',', '')\n",
        "\n",
        "# Convert the Users column to numeric type\n",
        "company1_data['Users'] = pd.to_numeric(company1_data['Users'])\n",
        "company2_data['Users'] = pd.to_numeric(company2_data['Users'])\n",
        "\n",
        "# Convert date column to datetime\n",
        "company1_data['Date of Travel'] = pd.to_datetime(company1_data['Date of Travel'])\n",
        "company2_data['Date of Travel'] = pd.to_datetime(company2_data['Date of Travel'])\n",
        "\n",
        "# Set date column as index\n",
        "company1_data.set_index('Date of Travel', inplace=True)\n",
        "company2_data.set_index('Date of Travel', inplace=True)\n",
        "\n",
        "# Resample the data by month and calculate the average number of customers\n",
        "company1_resampled = company1_data['Users'].resample('M').mean()\n",
        "company2_resampled = company2_data['Users'].resample('M').mean()\n",
        "\n",
        "# Plot the seasonality and trends\n",
        "plt.figure(figsize= (15,6))\n",
        "plt.plot(company1_resampled.index, company1_resampled, label='Pink Cab')\n",
        "plt.plot(company2_resampled.index, company2_resampled, label='Yellow Cab')\n",
        "plt.xlabel('Date')\n",
        "plt.ylabel('Average Number of Customers')\n",
        "plt.title('Seasonality of Cab Customers')\n",
        "plt.legend()\n",
        "plt.show()"
      ],
      "metadata": {
        "id": "sCbyg_gE8yoC"
      },
      "execution_count": null,
      "outputs": []
    },
    {
      "cell_type": "code",
      "source": [
        "plt.figure(figsize=(25, 6))\n",
        "sns.countplot(data=comb_data, x='Company', hue='Users')\n",
        "plt.xlabel('City')\n",
        "plt.ylabel('Count')\n",
        "plt.title('City vs Company')\n",
        "plt.show()"
      ],
      "metadata": {
        "id": "eePpyanCAqP9"
      },
      "execution_count": null,
      "outputs": []
    },
    {
      "cell_type": "code",
      "source": [
        "comb_data['profit'] = comb_data['Price Charged'] - comb_data['Cost of Trip']\n",
        "print(comb_data)"
      ],
      "metadata": {
        "id": "sfwFSTM_Atrv"
      },
      "execution_count": null,
      "outputs": []
    },
    {
      "cell_type": "code",
      "source": [
        "plt.figure(figsize=(15, 6))\n",
        "plt.scatter(data = comb_data, x='Users', y='profit')\n",
        "plt.xlabel('Number of Customers')\n",
        "plt.ylabel('Profit')\n",
        "plt.title('Relationship between Number of Customers and Profit')\n",
        "plt.show()"
      ],
      "metadata": {
        "id": "kJ8vfvy9A07F"
      },
      "execution_count": null,
      "outputs": []
    },
    {
      "cell_type": "code",
      "source": [
        "from google.colab import files\n",
        "comb_data.to_csv('comb_data.csv')\n",
        "files.download('comb_data.csv')"
      ],
      "metadata": {
        "colab": {
          "base_uri": "https://localhost:8080/",
          "height": 17
        },
        "id": "JYveUqiyA5eL",
        "outputId": "bf477c05-1613-403f-b30d-c0049be8495a"
      },
      "execution_count": 34,
      "outputs": [
        {
          "output_type": "display_data",
          "data": {
            "text/plain": [
              "<IPython.core.display.Javascript object>"
            ],
            "application/javascript": [
              "\n",
              "    async function download(id, filename, size) {\n",
              "      if (!google.colab.kernel.accessAllowed) {\n",
              "        return;\n",
              "      }\n",
              "      const div = document.createElement('div');\n",
              "      const label = document.createElement('label');\n",
              "      label.textContent = `Downloading \"${filename}\": `;\n",
              "      div.appendChild(label);\n",
              "      const progress = document.createElement('progress');\n",
              "      progress.max = size;\n",
              "      div.appendChild(progress);\n",
              "      document.body.appendChild(div);\n",
              "\n",
              "      const buffers = [];\n",
              "      let downloaded = 0;\n",
              "\n",
              "      const channel = await google.colab.kernel.comms.open(id);\n",
              "      // Send a message to notify the kernel that we're ready.\n",
              "      channel.send({})\n",
              "\n",
              "      for await (const message of channel.messages) {\n",
              "        // Send a message to notify the kernel that we're ready.\n",
              "        channel.send({})\n",
              "        if (message.buffers) {\n",
              "          for (const buffer of message.buffers) {\n",
              "            buffers.push(buffer);\n",
              "            downloaded += buffer.byteLength;\n",
              "            progress.value = downloaded;\n",
              "          }\n",
              "        }\n",
              "      }\n",
              "      const blob = new Blob(buffers, {type: 'application/binary'});\n",
              "      const a = document.createElement('a');\n",
              "      a.href = window.URL.createObjectURL(blob);\n",
              "      a.download = filename;\n",
              "      div.appendChild(a);\n",
              "      a.click();\n",
              "      div.remove();\n",
              "    }\n",
              "  "
            ]
          },
          "metadata": {}
        },
        {
          "output_type": "display_data",
          "data": {
            "text/plain": [
              "<IPython.core.display.Javascript object>"
            ],
            "application/javascript": [
              "download(\"download_963146ee-c41a-4072-94fd-0ec053e0ef27\", \"comb_data.csv\", 48239415)"
            ]
          },
          "metadata": {}
        }
      ]
    },
    {
      "cell_type": "code",
      "source": [
        "from google.colab import files\n",
        "\n",
        "\n",
        "uploaded = files.upload()"
      ],
      "metadata": {
        "colab": {
          "base_uri": "https://localhost:8080/",
          "height": 73
        },
        "id": "5a4bRqkSBawC",
        "outputId": "bf3f562e-248b-4ed3-fdcb-6ac78502e36e"
      },
      "execution_count": 35,
      "outputs": [
        {
          "output_type": "display_data",
          "data": {
            "text/plain": [
              "<IPython.core.display.HTML object>"
            ],
            "text/html": [
              "\n",
              "     <input type=\"file\" id=\"files-bbc8f5d0-57f0-47fc-a654-297b2cbf4570\" name=\"files[]\" multiple disabled\n",
              "        style=\"border:none\" />\n",
              "     <output id=\"result-bbc8f5d0-57f0-47fc-a654-297b2cbf4570\">\n",
              "      Upload widget is only available when the cell has been executed in the\n",
              "      current browser session. Please rerun this cell to enable.\n",
              "      </output>\n",
              "      <script>// Copyright 2017 Google LLC\n",
              "//\n",
              "// Licensed under the Apache License, Version 2.0 (the \"License\");\n",
              "// you may not use this file except in compliance with the License.\n",
              "// You may obtain a copy of the License at\n",
              "//\n",
              "//      http://www.apache.org/licenses/LICENSE-2.0\n",
              "//\n",
              "// Unless required by applicable law or agreed to in writing, software\n",
              "// distributed under the License is distributed on an \"AS IS\" BASIS,\n",
              "// WITHOUT WARRANTIES OR CONDITIONS OF ANY KIND, either express or implied.\n",
              "// See the License for the specific language governing permissions and\n",
              "// limitations under the License.\n",
              "\n",
              "/**\n",
              " * @fileoverview Helpers for google.colab Python module.\n",
              " */\n",
              "(function(scope) {\n",
              "function span(text, styleAttributes = {}) {\n",
              "  const element = document.createElement('span');\n",
              "  element.textContent = text;\n",
              "  for (const key of Object.keys(styleAttributes)) {\n",
              "    element.style[key] = styleAttributes[key];\n",
              "  }\n",
              "  return element;\n",
              "}\n",
              "\n",
              "// Max number of bytes which will be uploaded at a time.\n",
              "const MAX_PAYLOAD_SIZE = 100 * 1024;\n",
              "\n",
              "function _uploadFiles(inputId, outputId) {\n",
              "  const steps = uploadFilesStep(inputId, outputId);\n",
              "  const outputElement = document.getElementById(outputId);\n",
              "  // Cache steps on the outputElement to make it available for the next call\n",
              "  // to uploadFilesContinue from Python.\n",
              "  outputElement.steps = steps;\n",
              "\n",
              "  return _uploadFilesContinue(outputId);\n",
              "}\n",
              "\n",
              "// This is roughly an async generator (not supported in the browser yet),\n",
              "// where there are multiple asynchronous steps and the Python side is going\n",
              "// to poll for completion of each step.\n",
              "// This uses a Promise to block the python side on completion of each step,\n",
              "// then passes the result of the previous step as the input to the next step.\n",
              "function _uploadFilesContinue(outputId) {\n",
              "  const outputElement = document.getElementById(outputId);\n",
              "  const steps = outputElement.steps;\n",
              "\n",
              "  const next = steps.next(outputElement.lastPromiseValue);\n",
              "  return Promise.resolve(next.value.promise).then((value) => {\n",
              "    // Cache the last promise value to make it available to the next\n",
              "    // step of the generator.\n",
              "    outputElement.lastPromiseValue = value;\n",
              "    return next.value.response;\n",
              "  });\n",
              "}\n",
              "\n",
              "/**\n",
              " * Generator function which is called between each async step of the upload\n",
              " * process.\n",
              " * @param {string} inputId Element ID of the input file picker element.\n",
              " * @param {string} outputId Element ID of the output display.\n",
              " * @return {!Iterable<!Object>} Iterable of next steps.\n",
              " */\n",
              "function* uploadFilesStep(inputId, outputId) {\n",
              "  const inputElement = document.getElementById(inputId);\n",
              "  inputElement.disabled = false;\n",
              "\n",
              "  const outputElement = document.getElementById(outputId);\n",
              "  outputElement.innerHTML = '';\n",
              "\n",
              "  const pickedPromise = new Promise((resolve) => {\n",
              "    inputElement.addEventListener('change', (e) => {\n",
              "      resolve(e.target.files);\n",
              "    });\n",
              "  });\n",
              "\n",
              "  const cancel = document.createElement('button');\n",
              "  inputElement.parentElement.appendChild(cancel);\n",
              "  cancel.textContent = 'Cancel upload';\n",
              "  const cancelPromise = new Promise((resolve) => {\n",
              "    cancel.onclick = () => {\n",
              "      resolve(null);\n",
              "    };\n",
              "  });\n",
              "\n",
              "  // Wait for the user to pick the files.\n",
              "  const files = yield {\n",
              "    promise: Promise.race([pickedPromise, cancelPromise]),\n",
              "    response: {\n",
              "      action: 'starting',\n",
              "    }\n",
              "  };\n",
              "\n",
              "  cancel.remove();\n",
              "\n",
              "  // Disable the input element since further picks are not allowed.\n",
              "  inputElement.disabled = true;\n",
              "\n",
              "  if (!files) {\n",
              "    return {\n",
              "      response: {\n",
              "        action: 'complete',\n",
              "      }\n",
              "    };\n",
              "  }\n",
              "\n",
              "  for (const file of files) {\n",
              "    const li = document.createElement('li');\n",
              "    li.append(span(file.name, {fontWeight: 'bold'}));\n",
              "    li.append(span(\n",
              "        `(${file.type || 'n/a'}) - ${file.size} bytes, ` +\n",
              "        `last modified: ${\n",
              "            file.lastModifiedDate ? file.lastModifiedDate.toLocaleDateString() :\n",
              "                                    'n/a'} - `));\n",
              "    const percent = span('0% done');\n",
              "    li.appendChild(percent);\n",
              "\n",
              "    outputElement.appendChild(li);\n",
              "\n",
              "    const fileDataPromise = new Promise((resolve) => {\n",
              "      const reader = new FileReader();\n",
              "      reader.onload = (e) => {\n",
              "        resolve(e.target.result);\n",
              "      };\n",
              "      reader.readAsArrayBuffer(file);\n",
              "    });\n",
              "    // Wait for the data to be ready.\n",
              "    let fileData = yield {\n",
              "      promise: fileDataPromise,\n",
              "      response: {\n",
              "        action: 'continue',\n",
              "      }\n",
              "    };\n",
              "\n",
              "    // Use a chunked sending to avoid message size limits. See b/62115660.\n",
              "    let position = 0;\n",
              "    do {\n",
              "      const length = Math.min(fileData.byteLength - position, MAX_PAYLOAD_SIZE);\n",
              "      const chunk = new Uint8Array(fileData, position, length);\n",
              "      position += length;\n",
              "\n",
              "      const base64 = btoa(String.fromCharCode.apply(null, chunk));\n",
              "      yield {\n",
              "        response: {\n",
              "          action: 'append',\n",
              "          file: file.name,\n",
              "          data: base64,\n",
              "        },\n",
              "      };\n",
              "\n",
              "      let percentDone = fileData.byteLength === 0 ?\n",
              "          100 :\n",
              "          Math.round((position / fileData.byteLength) * 100);\n",
              "      percent.textContent = `${percentDone}% done`;\n",
              "\n",
              "    } while (position < fileData.byteLength);\n",
              "  }\n",
              "\n",
              "  // All done.\n",
              "  yield {\n",
              "    response: {\n",
              "      action: 'complete',\n",
              "    }\n",
              "  };\n",
              "}\n",
              "\n",
              "scope.google = scope.google || {};\n",
              "scope.google.colab = scope.google.colab || {};\n",
              "scope.google.colab._files = {\n",
              "  _uploadFiles,\n",
              "  _uploadFilesContinue,\n",
              "};\n",
              "})(self);\n",
              "</script> "
            ]
          },
          "metadata": {}
        },
        {
          "output_type": "stream",
          "name": "stdout",
          "text": [
            "Saving comb_data (2).csv to comb_data (2).csv\n"
          ]
        }
      ]
    },
    {
      "cell_type": "code",
      "source": [
        "import pandas as pd\n",
        "import numpy as np\n",
        "import statsmodels.api as sm\n",
        "from sklearn.model_selection import train_test_split\n",
        "from sklearn.metrics import mean_squared_error\n",
        "\n",
        "# Load the data\n",
        "data = pd.read_csv(io.BytesIO(uploaded['comb_data (2).csv']))\n",
        "\n",
        "# Select the relevant features and target variable\n",
        "categorical_features = ['Payment_Mode', 'Gender', 'Company', 'City', 'Date of Travel']  # Replace with actual categorical feature names\n",
        "numerical_features = ['Age', 'Income (USD/Month)', 'KM Travelled', 'Cost of Trip']  # Replace with actual numerical feature names\n",
        "target = 'Price Charged'\n",
        "\n",
        "# Convert categorical features to numerical using label encoding\n",
        "label_encoder = LabelEncoder()\n",
        "for feature in categorical_features:\n",
        "    data[feature] = label_encoder.fit_transform(data[feature])\n",
        "\n",
        "# Split the data into training and test sets\n",
        "X_train, X_test, y_train, y_test = train_test_split(data[numerical_features + categorical_features], data[target], test_size=0.2, random_state=42)\n",
        "\n",
        "# Add a constant term to the features\n",
        "X_train = sm.add_constant(X_train)\n",
        "\n",
        "# Create and fit the linear regression model\n",
        "model = sm.OLS(y_train, X_train)\n",
        "results = model.fit()\n",
        "\n",
        "# Print the regression summary\n",
        "print(results.summary())\n",
        "\n",
        "# Predict the target variable for the test set\n",
        "X_test = sm.add_constant(X_test)\n",
        "y_pred = results.predict(X_test)\n",
        "\n",
        "# Evaluate the model performance\n",
        "mse = mean_squared_error(y_test, y_pred)\n",
        "print('Mean Squared Error:', mse)"
      ],
      "metadata": {
        "colab": {
          "base_uri": "https://localhost:8080/"
        },
        "id": "80FVgsPjCQNF",
        "outputId": "4266e4ee-dd54-42de-eece-c317e40d8048"
      },
      "execution_count": 38,
      "outputs": [
        {
          "output_type": "stream",
          "name": "stdout",
          "text": [
            "                            OLS Regression Results                            \n",
            "==============================================================================\n",
            "Dep. Variable:          Price Charged   R-squared:                       0.757\n",
            "Model:                            OLS   Adj. R-squared:                  0.757\n",
            "Method:                 Least Squares   F-statistic:                 9.936e+04\n",
            "Date:                Wed, 21 Jun 2023   Prob (F-statistic):               0.00\n",
            "Time:                        08:23:19   Log-Likelihood:            -1.8194e+06\n",
            "No. Observations:              287513   AIC:                         3.639e+06\n",
            "Df Residuals:                  287503   BIC:                         3.639e+06\n",
            "Df Model:                           9                                         \n",
            "Covariance Type:            nonrobust                                         \n",
            "======================================================================================\n",
            "                         coef    std err          t      P>|t|      [0.025      0.975]\n",
            "--------------------------------------------------------------------------------------\n",
            "const                -92.0016      1.372    -67.047      0.000     -94.691     -89.312\n",
            "Age                   -0.0584      0.020     -2.907      0.004      -0.098      -0.019\n",
            "Income (USD/Month)     0.0001   3.17e-05      4.670      0.000     8.6e-05       0.000\n",
            "KM Travelled           7.8585      0.152     51.760      0.000       7.561       8.156\n",
            "Cost of Trip           0.8599      0.012     72.479      0.000       0.837       0.883\n",
            "Payment_Mode           0.3985      0.516      0.773      0.440      -0.612       1.409\n",
            "Gender                 5.4817      0.511     10.728      0.000       4.480       6.483\n",
            "Company              104.3551      0.838    124.546      0.000     102.713     105.997\n",
            "City                   1.9286      0.048     40.066      0.000       1.834       2.023\n",
            "Date of Travel        -0.0136      0.001    -17.697      0.000      -0.015      -0.012\n",
            "==============================================================================\n",
            "Omnibus:                    75861.716   Durbin-Watson:                   2.003\n",
            "Prob(Omnibus):                  0.000   Jarque-Bera (JB):           263569.930\n",
            "Skew:                           1.315   Prob(JB):                         0.00\n",
            "Kurtosis:                       6.885   Cond. No.                     9.79e+04\n",
            "==============================================================================\n",
            "\n",
            "Notes:\n",
            "[1] Standard Errors assume that the covariance matrix of the errors is correctly specified.\n",
            "[2] The condition number is large, 9.79e+04. This might indicate that there are\n",
            "strong multicollinearity or other numerical problems.\n",
            "Mean Squared Error: 18262.35143617639\n"
          ]
        }
      ]
    },
    {
      "cell_type": "code",
      "source": [
        "#model without including 'Payment_Mode'\n",
        "# Select the relevant features and target variable\n",
        "categorical_features = ['Gender', 'Company', 'City', 'Date of Travel']  # Replace with actual categorical feature names\n",
        "numerical_features = ['Age', 'Income (USD/Month)', 'KM Travelled', 'Cost of Trip']  # Replace with actual numerical feature names\n",
        "target = 'Price Charged'\n",
        "\n",
        "# Convert categorical features to numerical using label encoding\n",
        "label_encoder = LabelEncoder()\n",
        "for feature in categorical_features:\n",
        "    data[feature] = label_encoder.fit_transform(data[feature])\n",
        "\n",
        "# Split the data into training and test sets\n",
        "X_train, X_test, y_train, y_test = train_test_split(data[numerical_features + categorical_features], data[target], test_size=0.2, random_state=42)\n",
        "\n",
        "# Add a constant term to the features\n",
        "X_train = sm.add_constant(X_train)\n",
        "\n",
        "# Create and fit the linear regression model\n",
        "model = sm.OLS(y_train, X_train)\n",
        "results = model.fit()\n",
        "\n",
        "# Print the regression summary\n",
        "print(results.summary())\n",
        "\n",
        "# Predict the target variable for the test set\n",
        "X_test = sm.add_constant(X_test)\n",
        "y_pred = results.predict(X_test)\n",
        "\n",
        "# Evaluate the model performance\n",
        "mse = mean_squared_error(y_test, y_pred)\n",
        "print('Mean Squared Error:', mse)"
      ],
      "metadata": {
        "colab": {
          "base_uri": "https://localhost:8080/"
        },
        "id": "jGv2TmXwDZ5J",
        "outputId": "892ec291-3460-4066-c7e2-2ec98085716a"
      },
      "execution_count": 39,
      "outputs": [
        {
          "output_type": "stream",
          "name": "stdout",
          "text": [
            "                            OLS Regression Results                            \n",
            "==============================================================================\n",
            "Dep. Variable:          Price Charged   R-squared:                       0.757\n",
            "Model:                            OLS   Adj. R-squared:                  0.757\n",
            "Method:                 Least Squares   F-statistic:                 1.118e+05\n",
            "Date:                Wed, 21 Jun 2023   Prob (F-statistic):               0.00\n",
            "Time:                        08:24:12   Log-Likelihood:            -1.8194e+06\n",
            "No. Observations:              287513   AIC:                         3.639e+06\n",
            "Df Residuals:                  287504   BIC:                         3.639e+06\n",
            "Df Model:                           8                                         \n",
            "Covariance Type:            nonrobust                                         \n",
            "======================================================================================\n",
            "                         coef    std err          t      P>|t|      [0.025      0.975]\n",
            "--------------------------------------------------------------------------------------\n",
            "const                -91.8401      1.356    -67.720      0.000     -94.498     -89.182\n",
            "Age                   -0.0584      0.020     -2.908      0.004      -0.098      -0.019\n",
            "Income (USD/Month)     0.0001   3.17e-05      4.669      0.000     8.6e-05       0.000\n",
            "KM Travelled           7.8585      0.152     51.760      0.000       7.561       8.156\n",
            "Cost of Trip           0.8599      0.012     72.480      0.000       0.837       0.883\n",
            "Gender                 5.4818      0.511     10.728      0.000       4.480       6.483\n",
            "Company              104.3550      0.838    124.546      0.000     102.713     105.997\n",
            "City                   1.9285      0.048     40.065      0.000       1.834       2.023\n",
            "Date of Travel        -0.0136      0.001    -17.696      0.000      -0.015      -0.012\n",
            "==============================================================================\n",
            "Omnibus:                    75862.359   Durbin-Watson:                   2.003\n",
            "Prob(Omnibus):                  0.000   Jarque-Bera (JB):           263571.138\n",
            "Skew:                           1.315   Prob(JB):                         0.00\n",
            "Kurtosis:                       6.885   Cond. No.                     9.69e+04\n",
            "==============================================================================\n",
            "\n",
            "Notes:\n",
            "[1] Standard Errors assume that the covariance matrix of the errors is correctly specified.\n",
            "[2] The condition number is large, 9.69e+04. This might indicate that there are\n",
            "strong multicollinearity or other numerical problems.\n",
            "Mean Squared Error: 18262.620083981048\n"
          ]
        }
      ]
    },
    {
      "cell_type": "markdown",
      "source": [
        "**Hypotheses analysed:**\n",
        "\n",
        "1.   Which gender prefers which cab company most\n",
        "2.   Average age of customers - company wise\n",
        "3.   Income stats of the customers - company wise\n",
        "4.   which cab company is predominant in which city\n",
        "5.   the price charged vs km travelled\n",
        "6.   the cost of trip stats - company wise\n",
        "\n",
        "**Observations:**\n",
        "\n",
        "*   In both males and females, yellow cab company is predominant, from barplot\n",
        "*   The mean age of the customers for both the cab compnaies is equal, from the boxplot\n",
        "*   The average customer income for both pink and yellow cab companies is equal, from the boxplot (~15000 USD)\n",
        "*   The Yellow cab company is predominant among majprity of the cities, except a very few. From the countplot.\n",
        "*   The sctter plot of price charged vs KM travelled has a linear trend (positive), which shows for increase in either price charged or km travelled, there is a similar effect on the other variable.\n",
        "*   the mean of cost of trip is higher for yellow cab company when compared to the pink cab company. This provides strong evidence for XYZ to invest in yellow cab company.\n",
        "*   From the analysis of seasonality in cab customers over date of travel, the graph shows a similar trnd for both companies over time\n",
        "\n",
        "**Analysis:**\n",
        "\n",
        "Conducted a linear regression for predicting the price charged for each trip for both the pink and yellow cab companies. the regression model had R^2 value of 0.757, which shows the generated model is fit for prediction. The first model (which includes Payment_mode in the analysis) has a better MSE value of 18262.3514\n",
        "\n",
        "**Conclusion:**\n",
        "\n",
        "My recommendation for XYZ would be to invest in the yellow cab company from the abive analyses and observations.\n",
        "\n",
        "\n"
      ],
      "metadata": {
        "id": "iGMW77wuD1tS"
      }
    }
  ]
}